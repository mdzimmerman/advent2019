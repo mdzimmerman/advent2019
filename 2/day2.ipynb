{
 "cells": [
  {
   "cell_type": "code",
   "execution_count": 1,
   "metadata": {},
   "outputs": [],
   "source": [
    "import numpy as np"
   ]
  },
  {
   "cell_type": "code",
   "execution_count": 68,
   "metadata": {},
   "outputs": [
    {
     "name": "stdout",
     "output_type": "stream",
     "text": [
      "1,9,10,3,2,3,11,0,99,30,40,50\n",
      "1,9,10,70,2,3,11,0,99,30,40,50\n",
      "3500,9,10,70,2,3,11,0,99,30,40,50\n"
     ]
    },
    {
     "data": {
      "text/plain": [
       "3500"
      ]
     },
     "execution_count": 68,
     "metadata": {},
     "output_type": "execute_result"
    }
   ],
   "source": [
    "class Intcode:\n",
    "    def __init__(self, csvdata, debug=False):\n",
    "        self.initdata = np.array(csvdata.split(','), dtype=np.int64)\n",
    "        self.debug = debug\n",
    "\n",
    "    def run(self, noun=None, verb=None):\n",
    "        p = 0\n",
    "        data = np.copy(self.initdata)\n",
    "        if noun != None:\n",
    "            data[1] = noun\n",
    "        if verb != None:\n",
    "            data[2] = verb\n",
    "        if self.debug: self.print_data(data)\n",
    "        while True:\n",
    "            opcode = data[p]\n",
    "            if opcode == 99:\n",
    "                return data[0]\n",
    "            a = data[p+1]\n",
    "            b = data[p+2]\n",
    "            c = data[p+3]\n",
    "            if opcode == 1:\n",
    "                data[c] = data[a] + data[b]\n",
    "            elif opcode == 2:\n",
    "                data[c] = data[a] * data[b]\n",
    "            else:\n",
    "                raise Exception(\"bad opcode %d at p=%d\" % (opcode, p))\n",
    "            if self.debug: self.print_data(data)\n",
    "            p = p + 4\n",
    "    \n",
    "    def run_all(self, stop=None):\n",
    "        for n in range(100):\n",
    "            for v in range(100):\n",
    "                out = self.run(n, v)\n",
    "                if self.debug: print(\"noun=%2d verb=%2d out=%d\" % (n, v, out))\n",
    "                if out == stop:\n",
    "                    return (n, v)\n",
    "    \n",
    "    def print_data(self, data):\n",
    "        print(\",\".join(data.astype(str)))\n",
    "        \n",
    "test = Intcode('1,9,10,3,2,3,11,0,99,30,40,50', debug=True)\n",
    "test.run()"
   ]
  },
  {
   "cell_type": "code",
   "execution_count": 43,
   "metadata": {},
   "outputs": [
    {
     "name": "stdout",
     "output_type": "stream",
     "text": [
      "1,0,0,0,99\n",
      "2,0,0,0,99\n"
     ]
    },
    {
     "data": {
      "text/plain": [
       "2"
      ]
     },
     "execution_count": 43,
     "metadata": {},
     "output_type": "execute_result"
    }
   ],
   "source": [
    "t2 = Intcode(\"1,0,0,0,99\", debug=True)\n",
    "t2.run()"
   ]
  },
  {
   "cell_type": "code",
   "execution_count": 44,
   "metadata": {},
   "outputs": [
    {
     "name": "stdout",
     "output_type": "stream",
     "text": [
      "2,3,0,3,99\n",
      "2,3,0,6,99\n"
     ]
    },
    {
     "data": {
      "text/plain": [
       "2"
      ]
     },
     "execution_count": 44,
     "metadata": {},
     "output_type": "execute_result"
    }
   ],
   "source": [
    "t3 = Intcode(\"2,3,0,3,99\", debug=True)\n",
    "t3.run()"
   ]
  },
  {
   "cell_type": "code",
   "execution_count": 45,
   "metadata": {},
   "outputs": [
    {
     "name": "stdout",
     "output_type": "stream",
     "text": [
      "2,4,4,5,99,0\n",
      "2,4,4,5,99,9801\n"
     ]
    },
    {
     "data": {
      "text/plain": [
       "2"
      ]
     },
     "execution_count": 45,
     "metadata": {},
     "output_type": "execute_result"
    }
   ],
   "source": [
    "t4 = Intcode(\"2,4,4,5,99,0\", debug=True)\n",
    "t4.run()"
   ]
  },
  {
   "cell_type": "code",
   "execution_count": 46,
   "metadata": {},
   "outputs": [
    {
     "name": "stdout",
     "output_type": "stream",
     "text": [
      "1,1,1,4,99,5,6,0,99\n",
      "1,1,1,4,2,5,6,0,99\n",
      "30,1,1,4,2,5,6,0,99\n"
     ]
    },
    {
     "data": {
      "text/plain": [
       "30"
      ]
     },
     "execution_count": 46,
     "metadata": {},
     "output_type": "execute_result"
    }
   ],
   "source": [
    "t4 = Intcode(\"1,1,1,4,99,5,6,0,99\", debug=True)\n",
    "t4.run()"
   ]
  },
  {
   "cell_type": "code",
   "execution_count": 69,
   "metadata": {},
   "outputs": [
    {
     "name": "stdout",
     "output_type": "stream",
     "text": [
      "1,0,0,3,1,1,2,3,1,3,4,3,1,5,0,3,2,1,13,19,1,10,19,23,2,9,23,27,1,6,27,31,1,10,31,35,1,35,10,39,1,9,39,43,1,6,43,47,1,10,47,51,1,6,51,55,2,13,55,59,1,6,59,63,1,10,63,67,2,67,9,71,1,71,5,75,1,13,75,79,2,79,13,83,1,83,9,87,2,10,87,91,2,91,6,95,2,13,95,99,1,10,99,103,2,9,103,107,1,107,5,111,2,9,111,115,1,5,115,119,1,9,119,123,2,123,6,127,1,5,127,131,1,10,131,135,1,135,6,139,1,139,5,143,1,143,9,147,1,5,147,151,1,151,13,155,1,5,155,159,1,2,159,163,1,163,6,0,99,2,0,14,0\n"
     ]
    }
   ],
   "source": [
    "inpdata = \"\"\n",
    "with open(\"input.txt\", \"r\") as fh:\n",
    "    for l in fh:\n",
    "        inpdata += l.rstrip()\n",
    "inp = Intcode(inpdata)\n",
    "inp.print_data(inp.initdata)"
   ]
  },
  {
   "cell_type": "code",
   "execution_count": 70,
   "metadata": {},
   "outputs": [
    {
     "data": {
      "text/plain": [
       "11590668"
      ]
     },
     "execution_count": 70,
     "metadata": {},
     "output_type": "execute_result"
    }
   ],
   "source": [
    "inp.run(noun=12, verb=2)"
   ]
  },
  {
   "cell_type": "code",
   "execution_count": 73,
   "metadata": {},
   "outputs": [
    {
     "data": {
      "text/plain": [
       "(22, 54)"
      ]
     },
     "execution_count": 73,
     "metadata": {},
     "output_type": "execute_result"
    }
   ],
   "source": [
    "out = inp.run_all(stop=19690720)\n",
    "out"
   ]
  },
  {
   "cell_type": "code",
   "execution_count": 75,
   "metadata": {},
   "outputs": [
    {
     "data": {
      "text/plain": [
       "2254"
      ]
     },
     "execution_count": 75,
     "metadata": {},
     "output_type": "execute_result"
    }
   ],
   "source": [
    "out[0] * 100 + out[1]"
   ]
  },
  {
   "cell_type": "code",
   "execution_count": null,
   "metadata": {},
   "outputs": [],
   "source": []
  }
 ],
 "metadata": {
  "kernelspec": {
   "display_name": "Python 3",
   "language": "python",
   "name": "python3"
  },
  "language_info": {
   "codemirror_mode": {
    "name": "ipython",
    "version": 3
   },
   "file_extension": ".py",
   "mimetype": "text/x-python",
   "name": "python",
   "nbconvert_exporter": "python",
   "pygments_lexer": "ipython3",
   "version": "3.7.3"
  }
 },
 "nbformat": 4,
 "nbformat_minor": 2
}
